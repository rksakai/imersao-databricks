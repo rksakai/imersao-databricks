{
 "cells": [
  {
   "cell_type": "code",
   "execution_count": 0,
   "metadata": {
    "application/vnd.databricks.v1+cell": {
     "cellMetadata": {
      "byteLimit": 2048000,
      "rowLimit": 10000
     },
     "inputWidgets": {},
     "nuid": "38ab68f1-974c-4176-b476-3e7b13ef59c8",
     "showTitle": false,
     "tableResultSettingsMap": {},
     "title": ""
    }
   },
   "outputs": [],
   "source": [
    "\n",
    "\n",
    "import requests\n",
    "import pandas as pd\n",
    "from datetime import datetime, UTC\n",
    "\n",
    "RAW_BASE_PATH = \"/Volumes/lakehouse/raw/coinbase/coinbase/bitcoin_spot\"\n",
    "\n",
    "URL = \"https://api.coinbase.com/v2/prices/spot?currency=USD\"\n",
    "\n",
    "# 1️⃣ Garante que o diretório existe\n",
    "dbutils.fs.mkdirs(RAW_BASE_PATH)\n",
    "\n",
    "# 2️⃣ Coleta\n",
    "response = requests.get(URL, timeout=15)\n",
    "response.raise_for_status()\n",
    "data = response.json()[\"data\"]\n",
    "\n",
    "# 3️⃣ Monta DataFrame\n",
    "df = pd.DataFrame([{\n",
    "    \"ativo\": data[\"base\"],\n",
    "    \"preco\": float(data[\"amount\"]),\n",
    "    \"moeda\": data[\"currency\"],\n",
    "    \"horario_coleta\": datetime.now(UTC).isoformat(),\n",
    "    \"source_system\": \"coinbase\",\n",
    "    \"source_endpoint\": URL,\n",
    "    \"ingestion_ts_utc\": datetime.now(UTC).isoformat(),\n",
    "}])\n",
    "\n",
    "# 4️⃣ Salva JSON simples\n",
    "file_name = f\"{RAW_BASE_PATH}/coinbase_btc_{datetime.now(UTC).strftime('%Y%m%d_%H%M%S')}.json\"\n",
    "df.to_json(file_name, orient=\"records\", lines=True, force_ascii=False)\n",
    "\n",
    "print(f\"✅ JSON salvo em: {file_name}\")     \n",
    "\n",
    "df = spark.read.json(\"/Volumes/lakehouse/raw/coinbase/coinbase/bitcoin_spot\")\n",
    "print(f\"Total de registros: {df.count()}\")\n",
    "\n",
    "     "
   ]
  }
 ],
 "metadata": {
  "application/vnd.databricks.v1+notebook": {
   "computePreferences": null,
   "dashboards": [],
   "environmentMetadata": {
    "base_environment": "",
    "environment_version": "4"
   },
   "inputWidgetPreferences": null,
   "language": "python",
   "notebookMetadata": {
    "pythonIndentUnit": 4
   },
   "notebookName": "get_api_bitcoin",
   "widgets": {}
  },
  "language_info": {
   "name": "python"
  }
 },
 "nbformat": 4,
 "nbformat_minor": 0
}

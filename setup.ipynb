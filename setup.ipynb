{
 "cells": [
  {
   "cell_type": "code",
   "execution_count": 0,
   "metadata": {
    "application/vnd.databricks.v1+cell": {
     "cellMetadata": {
      "byteLimit": 2048000,
      "implicitDf": true,
      "rowLimit": 10000
     },
     "inputWidgets": {},
     "nuid": "5dca5755-af88-4a7a-817c-d7eb57c535a8",
     "showTitle": false,
     "tableResultSettingsMap": {},
     "title": ""
    }
   },
   "outputs": [],
   "source": [
    "\n",
    "%sql\n",
    "-- 1 Cria o catálogo principal (onde toda a plataforma de dados será organizada)\n",
    "CREATE CATALOG IF NOT EXISTS lakehouse\n",
    "COMMENT \"Catálogo principal do projeto, com camadas de dados governadas via Unity Catalog\";\n",
    "\n",
    "-- 2 Cria as quatro camadas da arquitetura de dados\n",
    "CREATE SCHEMA IF NOT EXISTS lakehouse.raw\n",
    "COMMENT \"Camada RAW - dados brutos, como chegam das fontes (SQL, API, planilhas)\";\n",
    "CREATE VOLUME IF NOT EXISTS lakehouse.raw.coinbase;\n",
    "CREATE VOLUME IF NOT EXISTS lakehouse.raw.yfinance;\n",
    "\n",
    "CREATE SCHEMA IF NOT EXISTS lakehouse.bronze\n",
    "COMMENT \"Camada BRONZE - dados padronizados, com metadados e controle de ingestão\";\n",
    "\n",
    "CREATE SCHEMA IF NOT EXISTS lakehouse.silver\n",
    "COMMENT \"Camada SILVER - dados tratados, com regras de negócio aplicadas\";\n",
    "\n",
    "CREATE SCHEMA IF NOT EXISTS lakehouse.gold\n",
    "COMMENT \"Camada GOLD - dados analíticos e métricas finais para BI e IA\";\n",
    "\n",
    "-- 3 (opcional) Verifica se tudo foi criado corretamente\n",
    "SHOW SCHEMAS IN lakehouse;"
   ]
  },
  {
   "cell_type": "code",
   "execution_count": 0,
   "metadata": {
    "application/vnd.databricks.v1+cell": {
     "cellMetadata": {
      "byteLimit": 2048000,
      "implicitDf": true,
      "rowLimit": 10000
     },
     "inputWidgets": {},
     "nuid": "167006fb-d35b-45b3-a62d-0f2c5c17a037",
     "showTitle": false,
     "tableResultSettingsMap": {},
     "title": ""
    }
   },
   "outputs": [],
   "source": [
    "%sql\n",
    "-- 2) Permissões (um GRANT por principal)\n",
    "\n",
    "-- Catálogo\n",
    "GRANT USE CATALOG ON CATALOG lakehouse TO data_engineers;\n",
    "GRANT USE CATALOG ON CATALOG lakehouse TO data_analysts;\n",
    "GRANT USE CATALOG ON CATALOG lakehouse TO data_scientists;\n",
    "GRANT USE CATALOG ON CATALOG lakehouse TO business_users;\n",
    "\n",
    "-- RAW (restrito a engenheiros)\n",
    "GRANT USE SCHEMA ON SCHEMA lakehouse.raw TO data_engineers;\n",
    "-- GRANT SELECT ON ALL TABLES IN SCHEMA lakehouse.raw TO data_engineers;\n",
    "\n",
    "-- BRONZE (eng: criar/modificar; analistas: leitura)\n",
    "GRANT USE SCHEMA ON SCHEMA lakehouse.bronze TO data_engineers;\n",
    "GRANT USE SCHEMA ON SCHEMA lakehouse.bronze TO data_analysts;\n",
    "-- GRANT SELECT ON ALL TABLES IN SCHEMA lakehouse.bronze TO data_analysts;\n",
    "\n",
    "-- SILVER (leitura p/ times técnicos)\n",
    "GRANT USE SCHEMA ON SCHEMA lakehouse.silver TO data_engineers;\n",
    "GRANT USE SCHEMA ON SCHEMA lakehouse.silver TO data_analysts;\n",
    "GRANT USE SCHEMA ON SCHEMA lakehouse.silver TO data_scientists;\n",
    "-- GRANT SELECT ON ALL TABLES IN SCHEMA lakehouse.silver TO data_engineers;\n",
    "-- GRANT SELECT ON ALL TABLES IN SCHEMA lakehouse.silver TO data_analysts;\n",
    "-- GRANT SELECT ON ALL TABLES IN SCHEMA lakehouse.silver TO data_scientists;\n",
    "\n",
    "-- GOLD (leitura ampla, incluindo negócio)\n",
    "GRANT USE SCHEMA ON SCHEMA lakehouse.gold TO data_engineers;\n",
    "GRANT USE SCHEMA ON SCHEMA lakehouse.gold TO data_analysts;\n",
    "GRANT USE SCHEMA ON SCHEMA lakehouse.gold TO data_scientists;\n",
    "GRANT USE SCHEMA ON SCHEMA lakehouse.gold TO business_users;\n",
    "-- GRANT SELECT ON ALL TABLES IN SCHEMA lakehouse.gold TO data_engineers;\n",
    "-- GRANT SELECT ON ALL TABLES IN SCHEMA lakehouse.gold TO data_analysts;\n",
    "-- GRANT SELECT ON ALL TABLES IN SCHEMA lakehouse.gold TO data_scientists;\n",
    "-- GRANT SELECT ON ALL TABLES IN SCHEMA lakehouse.gold TO business_users;\n"
   ]
  }
 ],
 "metadata": {
  "application/vnd.databricks.v1+notebook": {
   "computePreferences": null,
   "dashboards": [],
   "environmentMetadata": {
    "base_environment": "",
    "environment_version": "4"
   },
   "inputWidgetPreferences": null,
   "language": "python",
   "notebookMetadata": {
    "mostRecentlyExecutedCommandWithImplicitDF": {
     "commandId": 5640761373308916,
     "dataframes": [
      "_sqldf"
     ]
    },
    "pythonIndentUnit": 4
   },
   "notebookName": "setup",
   "widgets": {}
  },
  "language_info": {
   "name": "python"
  }
 },
 "nbformat": 4,
 "nbformat_minor": 0
}
